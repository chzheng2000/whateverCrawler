{
 "metadata": {
  "language_info": {
   "codemirror_mode": {
    "name": "ipython",
    "version": 3
   },
   "file_extension": ".py",
   "mimetype": "text/x-python",
   "name": "python",
   "nbconvert_exporter": "python",
   "pygments_lexer": "ipython3",
   "version": "3.9.1-final"
  },
  "orig_nbformat": 2,
  "kernelspec": {
   "name": "python3",
   "display_name": "Python 3.9.1 64-bit",
   "metadata": {
    "interpreter": {
     "hash": "bbee7842ce8ba476870a006d5d5b68f11cea175afb0fea017b7f81beccf88892"
    }
   }
  }
 },
 "nbformat": 4,
 "nbformat_minor": 2,
 "cells": [
  {
   "cell_type": "code",
   "execution_count": null,
   "metadata": {},
   "outputs": [],
   "source": [
    "https://news.sina.com.cn/roll/#pageid=153&lid=2509&k=&num=50&page=1\n",
    "https://news.sina.com.cn/roll/#pageid=153&lid=2515&k=&num=50&page=1"
   ]
  },
  {
   "cell_type": "code",
   "execution_count": 1,
   "metadata": {},
   "outputs": [],
   "source": [
    "import requests\n",
    "from bs4 import BeautifulSoup"
   ]
  },
  {
   "cell_type": "code",
   "execution_count": 2,
   "metadata": {},
   "outputs": [],
   "source": [
    "url = \"https://news.sina.com.cn/roll/#pageid=153&lid=2515&k=&num=50&page=1\""
   ]
  },
  {
   "cell_type": "code",
   "execution_count": 3,
   "metadata": {},
   "outputs": [],
   "source": [
    "r = requests.get(url)"
   ]
  },
  {
   "cell_type": "code",
   "execution_count": 4,
   "metadata": {},
   "outputs": [
    {
     "output_type": "execute_result",
     "data": {
      "text/plain": [
       "200"
      ]
     },
     "metadata": {},
     "execution_count": 4
    }
   ],
   "source": [
    "r.status_code"
   ]
  },
  {
   "cell_type": "code",
   "execution_count": 5,
   "metadata": {},
   "outputs": [],
   "source": [
    "soup = BeautifulSoup(r.text, \"lxml\")"
   ]
  },
  {
   "cell_type": "code",
   "execution_count": 7,
   "metadata": {},
   "outputs": [],
   "source": [
    "content = soup.find(\"div\", id=\"dlist\")"
   ]
  },
  {
   "cell_type": "code",
   "execution_count": 8,
   "metadata": {},
   "outputs": [],
   "source": [
    "content"
   ]
  },
  {
   "cell_type": "code",
   "execution_count": 10,
   "metadata": {},
   "outputs": [],
   "source": [
    "HEADERS = {\n",
    "    \"Accept\": \"text/html,application/xhtml+xml,application/xml;q=0.9,*/*;q=0.8\",\n",
    "    \"Host\": \"news.sina.com.cn\",\n",
    "    \"User-Agent\": \"Mozilla/5.0 (Macintosh; Intel Mac OS X 10_15_6) AppleWebKit/605.1.15 (KHTML, like Gecko) Version/14.0.1 Safari/605.1.15\",\n",
    "    \"Accept-Language\": \"zh-cn\",\n",
    "    \"Accept-Encoding\": \"gzip\",\n",
    "    \"Connection\": \"keep-alive\",\n",
    "}"
   ]
  },
  {
   "cell_type": "code",
   "execution_count": 11,
   "metadata": {},
   "outputs": [],
   "source": [
    "r = requests.get(url, headers=HEADERS)"
   ]
  },
  {
   "cell_type": "code",
   "execution_count": 12,
   "metadata": {},
   "outputs": [
    {
     "output_type": "execute_result",
     "data": {
      "text/plain": [
       "200"
      ]
     },
     "metadata": {},
     "execution_count": 12
    }
   ],
   "source": [
    "r.status_code"
   ]
  },
  {
   "cell_type": "code",
   "execution_count": 14,
   "metadata": {},
   "outputs": [],
   "source": [
    "soup = BeautifulSoup(r.text, \"lxml\")"
   ]
  },
  {
   "cell_type": "code",
   "execution_count": null,
   "metadata": {},
   "outputs": [],
   "source": [
    "https://feed.mix.sina.com.cn/api/roll/get?pageid=153&lid=2509&k=&num=50&page=3&r=0.9950076364541849&callback=jQuery1112039722641159181915_1617676230473&_=1617676230478"
   ]
  },
  {
   "cell_type": "code",
   "execution_count": null,
   "metadata": {},
   "outputs": [],
   "source": [
    "baseURL = \"https://feed.mix.sina.com.cn/api/roll/get?pageid=153&lid=2509&k=&num=50&page=%d&r=%.16f&callback=jQuery1112039722641159181915_1617676230473&_=1617676230478\""
   ]
  },
  {
   "cell_type": "code",
   "execution_count": 28,
   "metadata": {},
   "outputs": [],
   "source": [
    "import time\n",
    "import random\n",
    "import json\n",
    "HEADERS = {\n",
    "    \"Accept\": \"text/html,application/xhtml+xml,application/xml;q=0.9,*/*;q=0.8\",\n",
    "    \"Host\": \"feed.mix.sina.com.cn\",\n",
    "    \"User-Agent\": \"Mozilla/5.0 (Macintosh; Intel Mac OS X 10_15_6) AppleWebKit/605.1.15 (KHTML, like Gecko) Version/14.0.1 Safari/605.1.15\",\n",
    "    \"Accept-Language\": \"zh-cn\",\n",
    "    \"Accept-Encoding\": \"gzip\",\n",
    "    \"Connection\": \"keep-alive\",\n",
    "}"
   ]
  },
  {
   "cell_type": "code",
   "execution_count": 86,
   "metadata": {},
   "outputs": [],
   "source": [
    "page = 1\n",
    "r = random.random()\n",
    "_ = int(time.time())\n",
    "url = f\"https://feed.mix.sina.com.cn/api/roll/get?pageid=153&lid=2517&num=50&page={page}&r={r:.16f}&_={_}\"\n",
    "r = requests.get(url, headers=HEADERS)"
   ]
  },
  {
   "cell_type": "code",
   "execution_count": 87,
   "metadata": {},
   "outputs": [
    {
     "output_type": "execute_result",
     "data": {
      "text/plain": [
       "200"
      ]
     },
     "metadata": {},
     "execution_count": 87
    }
   ],
   "source": [
    "r.status_code"
   ]
  },
  {
   "cell_type": "code",
   "execution_count": 88,
   "metadata": {},
   "outputs": [],
   "source": [
    "stock = json.loads(r.text)"
   ]
  },
  {
   "cell_type": "code",
   "execution_count": 89,
   "metadata": {},
   "outputs": [],
   "source": [
    "stock = stock[\"result\"][\"data\"]"
   ]
  },
  {
   "cell_type": "code",
   "execution_count": 96,
   "metadata": {},
   "outputs": [
    {
     "output_type": "execute_result",
     "data": {
      "text/plain": [
       "{'stockCharts': 'daily',\n",
       " 'stockCode': '002235',\n",
       " 'stockMarket': 'sz',\n",
       " 'mulStockChart': '',\n",
       " 'isStaticStock': ''}"
      ]
     },
     "metadata": {},
     "execution_count": 96
    }
   ],
   "source": [
    "json.loads(stock[0][\"hqChart\"])"
   ]
  },
  {
   "cell_type": "code",
   "execution_count": 33,
   "metadata": {},
   "outputs": [],
   "source": [
    "news = json.loads(r.text)"
   ]
  },
  {
   "cell_type": "code",
   "execution_count": 40,
   "metadata": {},
   "outputs": [
    {
     "output_type": "execute_result",
     "data": {
      "text/plain": [
       "dict"
      ]
     },
     "metadata": {},
     "execution_count": 40
    }
   ],
   "source": [
    "type(news)"
   ]
  },
  {
   "cell_type": "code",
   "execution_count": 41,
   "metadata": {},
   "outputs": [
    {
     "output_type": "execute_result",
     "data": {
      "text/plain": [
       "dict_keys(['result'])"
      ]
     },
     "metadata": {},
     "execution_count": 41
    }
   ],
   "source": [
    "news.keys()"
   ]
  },
  {
   "cell_type": "code",
   "execution_count": 42,
   "metadata": {},
   "outputs": [],
   "source": [
    "result = news[\"result\"]"
   ]
  },
  {
   "cell_type": "code",
   "execution_count": 43,
   "metadata": {},
   "outputs": [
    {
     "output_type": "execute_result",
     "data": {
      "text/plain": [
       "dict_keys(['status', 'timestamp', 'top', 'pdps', 'cre', 'total', 'end', 'start', 'lid', 'rtime', 'data'])"
      ]
     },
     "metadata": {},
     "execution_count": 43
    }
   ],
   "source": [
    "result.keys()"
   ]
  },
  {
   "cell_type": "code",
   "execution_count": 58,
   "metadata": {},
   "outputs": [
    {
     "output_type": "execute_result",
     "data": {
      "text/plain": [
       "(list, 50)"
      ]
     },
     "metadata": {},
     "execution_count": 58
    }
   ],
   "source": [
    "data = result[\"data\"]\n",
    "type(data), len(data)"
   ]
  },
  {
   "cell_type": "code",
   "execution_count": 59,
   "metadata": {},
   "outputs": [],
   "source": [
    "temp = data[0]"
   ]
  },
  {
   "cell_type": "code",
   "execution_count": 61,
   "metadata": {},
   "outputs": [
    {
     "output_type": "execute_result",
     "data": {
      "text/plain": [
       "dict_keys(['oid', 'docid', 'url', 'wapurl', 'title', 'stitle', 'summary', 'wapsummary', 'intro', 'ctime', 'mtime', 'intime', 'author', 'authoruid', 'level', 'img', 'images', 'commentid', 'vid', 'ipad_vid', 'keywords', 'categoryid', 'channelid', 'mediaid', 'columnid', 'subjectid', 'templateid', 'productid', 'lids', 'mlids', 'ext_0', 'ext_1', 'ext_2', 'ext_3', 'ext_4', 'ext', 'media_name', 'video_id', 'video_time_length', 'urls', 'wapurls', 'hqChart', 'icons', 'is_cre_manual'])"
      ]
     },
     "metadata": {},
     "execution_count": 61
    }
   ],
   "source": [
    "temp.keys()"
   ]
  },
  {
   "cell_type": "code",
   "execution_count": 66,
   "metadata": {},
   "outputs": [
    {
     "output_type": "execute_result",
     "data": {
      "text/plain": [
       "('https://finance.sina.com.cn/chanjing/gsnews/2021-04-06/doc-ikmyaawa7727256.shtml',\n",
       " 'https://finance.sina.cn/chanjing/gsxw/2021-04-06/detail-ikmyaawa7727256.d.html',\n",
       " '女子为获高回扣在整容院“打版” 手术后鼻腔内留膨胀海绵',\n",
       " ' 近日，云南昆明。32岁女子为获高额回扣去做整容“打版”手术。两个多月后鼻子散发明显异味，从内取出发脓发臭的膨胀海绵。她揭露此医美行业“拉人头”提成高达七成。',\n",
       " '1617678022',\n",
       " '295,1081,1693,1694,2509,2516,2519,2544')"
      ]
     },
     "metadata": {},
     "execution_count": 66
    }
   ],
   "source": [
    "temp = data[0]\n",
    "temp[\"url\"], temp[\"wapurl\"], temp[\"title\"], temp[\"intro\"], temp[\"ctime\"], temp[\"lids\"]"
   ]
  },
  {
   "cell_type": "code",
   "execution_count": 82,
   "metadata": {},
   "outputs": [],
   "source": [
    "import csv\n",
    "data = news[\"result\"][\"data\"]\n",
    "keys = [\"oid\", \"title\", \"ctime\", \"lids\", \"url\",\"intro\" ,\"wapurl\"]\n",
    "output = []\n",
    "for i in data:\n",
    "    output.append([i[k] for k in keys])\n",
    "\n",
    "filename = time.strftime(\"%Y%m%d_%H%Mnews.csv\",time.localtime(_))\n",
    "f = open(filename, \"w\")\n",
    "csv_writer = csv.writer(f)\n",
    "csv_writer.writerow(keys)\n",
    "csv_writer.writerows(output)\n",
    "f.close()"
   ]
  },
  {
   "cell_type": "code",
   "execution_count": 84,
   "metadata": {},
   "outputs": [],
   "source": [
    "filename = time.strftime(\"%Y%m%d_%H%Mnews.csv\", time.localtime())"
   ]
  },
  {
   "cell_type": "code",
   "execution_count": 85,
   "metadata": {},
   "outputs": [
    {
     "output_type": "execute_result",
     "data": {
      "text/plain": [
       "'20210406_1350news.csv'"
      ]
     },
     "metadata": {},
     "execution_count": 85
    }
   ],
   "source": [
    "filename"
   ]
  },
  {
   "cell_type": "code",
   "execution_count": null,
   "metadata": {},
   "outputs": [],
   "source": []
  }
 ]
}