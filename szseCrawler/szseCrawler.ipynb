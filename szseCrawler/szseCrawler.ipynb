{
 "metadata": {
  "language_info": {
   "codemirror_mode": {
    "name": "ipython",
    "version": 3
   },
   "file_extension": ".py",
   "mimetype": "text/x-python",
   "name": "python",
   "nbconvert_exporter": "python",
   "pygments_lexer": "ipython3",
   "version": "3.9.1-final"
  },
  "orig_nbformat": 2,
  "kernelspec": {
   "name": "python391jvsc74a57bd0bbee7842ce8ba476870a006d5d5b68f11cea175afb0fea017b7f81beccf88892",
   "display_name": "Python 3.9.1 64-bit"
  },
  "metadata": {
   "interpreter": {
    "hash": "bbee7842ce8ba476870a006d5d5b68f11cea175afb0fea017b7f81beccf88892"
   }
  }
 },
 "nbformat": 4,
 "nbformat_minor": 2,
 "cells": [
  {
   "cell_type": "code",
   "execution_count": 4,
   "metadata": {},
   "outputs": [],
   "source": [
    "# Apr 7, 2021 19:06 深交所网站挂了\n",
    "import requests\n",
    "from bs4 import BeautifulSoup\n",
    "HEADERS = {\n",
    "    \"Accept\": \"text/html,application/xhtml+xml,application/xml;q=0.9,*/*;q=0.8\",\n",
    "    \"Host\": \"www.szse.cn\",\n",
    "    \"User-Agent\": \"Mozilla/5.0 (Macintosh; Intel Mac OS X 10_15_6) AppleWebKit/605.1.15 (KHTML, like Gecko) Version/14.0.1 Safari/605.1.15\",\n",
    "    \"Accept-Language\": \"zh-cn\",\n",
    "    \"Accept-Encoding\": \"gzip\",\n",
    "    \"Connection\": \"keep-alive\",\n",
    "}\n",
    "\n",
    "url = \"http://www.szse.cn/disclosure/notice/company/index.html\""
   ]
  },
  {
   "cell_type": "code",
   "execution_count": 5,
   "metadata": {},
   "outputs": [],
   "source": [
    "r = requests.get(url, headers=HEADERS)"
   ]
  },
  {
   "cell_type": "code",
   "execution_count": 6,
   "metadata": {},
   "outputs": [
    {
     "output_type": "execute_result",
     "data": {
      "text/plain": [
       "500"
      ]
     },
     "metadata": {},
     "execution_count": 6
    }
   ],
   "source": [
    "r.status_code"
   ]
  },
  {
   "cell_type": "code",
   "execution_count": 7,
   "metadata": {},
   "outputs": [],
   "source": [
    "r.encoding = \"utf-8\""
   ]
  },
  {
   "cell_type": "code",
   "execution_count": 8,
   "metadata": {},
   "outputs": [],
   "source": [
    "soup = BeautifulSoup(r.text, \"lxml\")"
   ]
  },
  {
   "cell_type": "code",
   "execution_count": 15,
   "metadata": {},
   "outputs": [],
   "source": [
    "temp = soup.find(\"div\", class_=\"g-content-list\")"
   ]
  },
  {
   "cell_type": "code",
   "execution_count": 17,
   "metadata": {},
   "outputs": [],
   "source": [
    "content = temp.find_all(\"div\", class_=\"title\")"
   ]
  },
  {
   "cell_type": "code",
   "execution_count": 18,
   "metadata": {},
   "outputs": [],
   "source": [
    "tt = content[0]"
   ]
  },
  {
   "cell_type": "code",
   "execution_count": 29,
   "metadata": {},
   "outputs": [],
   "source": [
    "time = tt.find(\"span\").string.strip()"
   ]
  },
  {
   "cell_type": "code",
   "execution_count": 30,
   "metadata": {},
   "outputs": [
    {
     "output_type": "execute_result",
     "data": {
      "text/plain": [
       "'2021-04-02'"
      ]
     },
     "metadata": {},
     "execution_count": 30
    }
   ],
   "source": [
    "time"
   ]
  },
  {
   "cell_type": "code",
   "execution_count": 31,
   "metadata": {},
   "outputs": [],
   "source": [
    "title = tt.script"
   ]
  },
  {
   "cell_type": "code",
   "execution_count": 33,
   "metadata": {},
   "outputs": [],
   "source": [
    "import re"
   ]
  },
  {
   "cell_type": "code",
   "execution_count": 57,
   "metadata": {},
   "outputs": [],
   "source": [
    "pattern = r\"var curTitle = '(.*?)';\"\n",
    "a = re.search(pattern, title.string)"
   ]
  },
  {
   "cell_type": "code",
   "execution_count": 58,
   "metadata": {},
   "outputs": [
    {
     "output_type": "execute_result",
     "data": {
      "text/plain": [
       "'关于山东中农联合生物科技股份有限公司股票上市交易的公告'"
      ]
     },
     "metadata": {},
     "execution_count": 58
    }
   ],
   "source": [
    "a.group(1)"
   ]
  },
  {
   "cell_type": "code",
   "execution_count": 48,
   "metadata": {},
   "outputs": [
    {
     "output_type": "stream",
     "name": "stdout",
     "text": [
      "\n  \n    var curHref = './t20210402_585368.html';\n    //var curTitle = '关于山东中农联合生物科技股份有限公司股票上市交易的公告';\n//var subTitle = '';\n var curTitle ='关于山东中农联合生物科技股份有限公司股票上市交易的公告';\n    var curCmsDocType = '20'\n    var curTarget = '';\n    var pointIndex = curHref.lastIndexOf('.');\n    var docType = curHref.substring(pointIndex+1).toLocaleLowerCase();\n    if (!(docType == 'html' || docType == 'pdf' || docType == 'xml' || docType == 'txt' || docType == 'jpg' || docType == 'png' || docType == 'jpeg' || docType == 'bmp') && curCmsDocType != 30) {\n        curTarget = '_self';\n    } else {\n        curTarget = '_blank';\n    }\n    var channelName = 'ipocompany_news';\n    var doingFlagHtml='';\n    //进行中标识\n    if(channelName == 'questionnaire_news' && subTitle =='进行中'){\n    \tdoingFlagHtml = '<span class=\"surveyIsDoing\">进行中</span>';\n    \tdocument.write('<a class=\"ellipsis art-list-link\" href=\"' + curHref + '\" title=\"' + curTitle + '\" target=\"' + curTarget + '\">'+ doingFlagHtml + curTitle + '</a>');  \n    } else if((channelName  == 'introduce_hidden' || channelName  == 'serveGuide_hidden' || channelName  == 'dataInterface_hidden' || channelName  == 'technicalGuide_hidden')&& '1'==1){\n    //技术服务页面，判断是否第一条是置顶\n       doingFlagHtml = '<span class=\"surveyIsDoing\">置顶</span>';\n       document.write('<a class=\"ellipsis art-list-link\" href=\"' + curHref + '\" title=\"' + curTitle + '\" target=\"' + curTarget + '\">'+ doingFlagHtml + curTitle + '</a>'); \n    }else{\n    \tdocument.write('<a class=\"ellipsis art-list-link\" href=\"' + curHref + '\" title=\"' + curTitle + '\" target=\"' + curTarget + '\">' + curTitle + '</a>');  \n    }\n\n    \n    \n\n"
     ]
    }
   ],
   "source": [
    "print(title.string)"
   ]
  },
  {
   "cell_type": "code",
   "execution_count": null,
   "metadata": {},
   "outputs": [],
   "source": []
  }
 ]
}