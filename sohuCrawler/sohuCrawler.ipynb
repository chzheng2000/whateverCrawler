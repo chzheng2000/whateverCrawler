{
 "metadata": {
  "language_info": {
   "codemirror_mode": {
    "name": "ipython",
    "version": 3
   },
   "file_extension": ".py",
   "mimetype": "text/x-python",
   "name": "python",
   "nbconvert_exporter": "python",
   "pygments_lexer": "ipython3",
   "version": "3.9.1-final"
  },
  "orig_nbformat": 2,
  "kernelspec": {
   "name": "python391jvsc74a57bd0bbee7842ce8ba476870a006d5d5b68f11cea175afb0fea017b7f81beccf88892",
   "display_name": "Python 3.9.1 64-bit"
  },
  "metadata": {
   "interpreter": {
    "hash": "bbee7842ce8ba476870a006d5d5b68f11cea175afb0fea017b7f81beccf88892"
   }
  }
 },
 "nbformat": 4,
 "nbformat_minor": 2,
 "cells": [
  {
   "cell_type": "code",
   "execution_count": null,
   "metadata": {},
   "outputs": [],
   "source": [
    "https://v2.sohu.com/public-api/feed?scene=CATEGORY&sceneId=1463&page=3&size=20&callback=jQuery1124009964074535685552_1617692344100&_=1617692344134"
   ]
  },
  {
   "cell_type": "code",
   "execution_count": 1,
   "metadata": {},
   "outputs": [],
   "source": [
    "import requests\n",
    "from bs4 import BeautifulSoup\n",
    "import json\n",
    "import time"
   ]
  },
  {
   "cell_type": "code",
   "execution_count": 3,
   "metadata": {},
   "outputs": [],
   "source": [
    "HEADERS = {\n",
    "    \"Accept\": \"text/html,application/xhtml+xml,application/xml;q=0.9,*/*;q=0.8\",\n",
    "    \"Host\": \"v2.sohu.com\",\n",
    "    \"User-Agent\": \"Mozilla/5.0 (Macintosh; Intel Mac OS X 10_15_6) AppleWebKit/605.1.15 (KHTML, like Gecko) Version/14.0.1 Safari/605.1.15\",\n",
    "    \"Accept-Language\": \"zh-cn\",\n",
    "    \"Accept-Encoding\": \"gzip\",\n",
    "    \"Connection\": \"keep-alive\",\n",
    "}"
   ]
  },
  {
   "cell_type": "code",
   "execution_count": 4,
   "metadata": {},
   "outputs": [],
   "source": [
    "page = 1\n",
    "_ = int(time.time())\n",
    "size = 20\n",
    "url = f\"https://v2.sohu.com/public-api/feed?scene=CATEGORY&sceneId=1463&page={page}&size={size}&_={_}\""
   ]
  },
  {
   "cell_type": "code",
   "execution_count": 5,
   "metadata": {},
   "outputs": [],
   "source": [
    "r = requests.get(url, headers=HEADERS)"
   ]
  },
  {
   "cell_type": "code",
   "execution_count": 6,
   "metadata": {},
   "outputs": [
    {
     "output_type": "execute_result",
     "data": {
      "text/plain": [
       "200"
      ]
     },
     "metadata": {},
     "execution_count": 6
    }
   ],
   "source": [
    "r.status_code"
   ]
  },
  {
   "cell_type": "code",
   "execution_count": 7,
   "metadata": {},
   "outputs": [],
   "source": [
    "news = json.loads(r.text)"
   ]
  },
  {
   "cell_type": "code",
   "execution_count": 10,
   "metadata": {},
   "outputs": [
    {
     "output_type": "execute_result",
     "data": {
      "text/plain": [
       "20"
      ]
     },
     "metadata": {},
     "execution_count": 10
    }
   ],
   "source": [
    "len(news)"
   ]
  },
  {
   "cell_type": "code",
   "execution_count": 11,
   "metadata": {},
   "outputs": [],
   "source": []
  },
  {
   "cell_type": "code",
   "execution_count": 13,
   "metadata": {},
   "outputs": [
    {
     "output_type": "execute_result",
     "data": {
      "text/plain": [
       "dict_keys(['authorId', 'authorName', 'authorPic', 'categoryId', 'channelId', 'channelUrl', 'cmsId', 'contentType', 'focus', 'id', 'images', 'mobileTitle', 'originalSource', 'otherId', 'outerLink', 'passport', 'personalPage', 'picUrl', 'publicTime', 'secureScore', 'tags', 'title', 'type'])"
      ]
     },
     "metadata": {},
     "execution_count": 13
    }
   ],
   "source": [
    "temp = news[0]\n",
    "temp.keys()"
   ]
  },
  {
   "cell_type": "code",
   "execution_count": 16,
   "metadata": {},
   "outputs": [
    {
     "output_type": "execute_result",
     "data": {
      "text/plain": [
       "[459206580,\n",
       " '银泰证券西安一营业部违规 介绍融资资金涉嫌犯罪所得',\n",
       " 1617692131000,\n",
       " '中国经济网',\n",
       " '银泰证券西安一营业部违规 介绍融资资金涉嫌犯罪所得',\n",
       " 'http://finance.ce.cn/stock/gsgdbd/202104/06/t20210406_36445058.shtml']"
      ]
     },
     "metadata": {},
     "execution_count": 16
    }
   ],
   "source": [
    "keys = [\"id\", \"title\", \"publicTime\", \"authorName\", \"mobileTitle\", \"originalSource\"]\n",
    "[temp[k] for k in keys]"
   ]
  },
  {
   "cell_type": "code",
   "execution_count": null,
   "metadata": {},
   "outputs": [],
   "source": []
  }
 ]
}